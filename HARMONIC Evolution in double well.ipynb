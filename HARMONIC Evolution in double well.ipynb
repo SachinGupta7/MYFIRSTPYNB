{
 "cells": [
  {
   "cell_type": "code",
   "execution_count": 1,
   "metadata": {},
   "outputs": [
    {
     "data": {
      "application/vnd.jupyter.widget-view+json": {
       "model_id": "7a2ae6c4294f4994bd08937396a3840f",
       "version_major": 2,
       "version_minor": 0
      },
      "text/plain": [
       "VBox(children=(Figure(animation_duration=100, axes=[Axis(scale=LinearScale()), Axis(orientation='vertical', sc…"
      ]
     },
     "metadata": {},
     "output_type": "display_data"
    },
    {
     "data": {
      "application/vnd.jupyter.widget-view+json": {
       "model_id": "fc68b67b1f1040f781e4f25e385be2f0",
       "version_major": 2,
       "version_minor": 0
      },
      "text/plain": [
       "interactive(children=(Play(value=0, description='N1', interval=105, max=1500), Output()), _dom_classes=('widge…"
      ]
     },
     "metadata": {},
     "output_type": "display_data"
    },
    {
     "data": {
      "text/plain": [
       "<function __main__.gv(N1)>"
      ]
     },
     "execution_count": 1,
     "metadata": {},
     "output_type": "execute_result"
    }
   ],
   "source": [
    "\n",
    "import numpy as np\n",
    "import bqplot as bq\n",
    "from bqplot import pyplot as plt\n",
    "from ipywidgets import*\n",
    "\n",
    "from IPython.display import display\n",
    "def prob(H):\n",
    "    bn = np.conjugate(H)\n",
    "    vb = np.multiply(bn,H)\n",
    "    return np.real(vb);\n",
    "\n",
    "\n",
    "N = 200\n",
    "    \n",
    "\n",
    "def kdirac(i,j):\n",
    "    if(i==j):\n",
    "        return 1;\n",
    "    else:\n",
    "        return 0;\n",
    "\n",
    "\n",
    "\n",
    "def hamil(i,j,V1):\n",
    "    v =(-kdirac(i+1,j)+2*kdirac(i,j)-kdirac(i-1,j))/(dx**2) + kdirac(i,j)*V1[i];\n",
    "    return v;\n",
    "\n",
    "\n",
    "\n",
    "\n",
    "\n",
    "\n",
    "def pot1(x):\n",
    " \n",
    "        return 10*(x+1)**2;\n",
    "   \n",
    "        \n",
    "        \n",
    "    \n",
    "\n",
    "N = 200        \n",
    "x = np.linspace(-2,2,N)\n",
    "V1 = np.array([pot1(x2) for x2 in x])\n",
    "plt.clear()\n",
    "dx = x[2]-x[1]     \n",
    "\n",
    "  \n",
    "Ham1 = np.zeros((N,N))\n",
    "for i in range(N):\n",
    "    for j in range(N):\n",
    "        Ham1[i,j] = hamil(i,j,V1)\n",
    "Eigval,Eigvect = np.linalg.eigh(Ham1)\n",
    "\n",
    "A = Eigvect[:,0]\n",
    "B = Eigvect[:,1]\n",
    "\n",
    "\n",
    "\n",
    "A = -A.reshape(N)\n",
    "def pot2(xc):\n",
    "    return 0.8*(xc**2-1)**2\n",
    "V2 = np.array([pot2(cv) for cv in x])\n",
    "Psi= A/np.sqrt(np.vdot(A,A)) \n",
    "#Psi = Psi*np.exp(10.j*x)\n",
    "Psi_pr = prob(Psi)\n",
    "\n",
    "Psi_History = Psi_pr.reshape(N,1)\n",
    "\n",
    "fig = plt.figure(layout = {'width':'1000px','height':'800px'})\n",
    "fig.animation_duration = 100\n",
    "plt.clear()\n",
    "\n",
    "\n",
    "plot = plt.plot(x,5*Psi_pr)\n",
    "\n",
    "\n",
    "plt.plot(x,V2)\n",
    "plt.ylim(0,1)\n",
    "\n",
    "\n",
    "Ham = np.zeros(N*N).reshape(N,N)\n",
    "\n",
    "\n",
    "for i in range(N):\n",
    "    for j in range(N):\n",
    "        Ham[i,j] = hamil(i,j,V2)\n",
    "Eigval,Eigvect = np.linalg.eigh(Ham)    \n",
    "\n",
    "\n",
    "\n",
    "\n",
    "\n",
    "XX = np.conjugate(np.transpose(Eigvect))\n",
    "Eigvect = np.transpose(Eigvect)\n",
    "\n",
    "cn_s =  np.matmul(XX,Psi)\n",
    "cn_s = cn_s.reshape(N,1)\n",
    "\n",
    "\n",
    "t= 0\n",
    "dt = 0.02\n",
    "Eigval = Eigval.reshape(N,1)\n",
    "Totl = [1]\n",
    "Time = [t]\n",
    "\n",
    "plt.show()\n",
    "for i in range(1500):\n",
    "    zx = -1.j*Eigval*t\n",
    "    cn_t = np.multiply(cn_s,np.exp(zx))\n",
    "    Psi_t = np.multiply(Eigvect,cn_t)\n",
    "    Psi_t = np.sum(Psi_t,axis = 0)\n",
    "\n",
    "    Totl.append(np.sum(prob(Psi_t)))    \n",
    "    Psi_t = prob(Psi_t)\n",
    "\n",
    "        \n",
    "    Psi_t= Psi_t.reshape(N,1)\n",
    " \n",
    "    Psi_History = np.hstack((Psi_History,Psi_t))\n",
    "    t+= dt\n",
    "    Time.append(t)\n",
    "\n",
    "\n",
    "\n",
    "def gv(N1):\n",
    "    plot.y =20*Psi_History[:,1*N1]\n",
    "\n",
    "interact(gv,N1= Play(interval = 105,value=0,min=0,max=1500,step=1,descrption= \"press play\",disabled = False))\n",
    "\n"
   ]
  },
  {
   "cell_type": "code",
   "execution_count": null,
   "metadata": {},
   "outputs": [],
   "source": []
  }
 ],
 "metadata": {
  "kernelspec": {
   "display_name": "Python 3",
   "language": "python",
   "name": "python3"
  },
  "language_info": {
   "codemirror_mode": {
    "name": "ipython",
    "version": 3
   },
   "file_extension": ".py",
   "mimetype": "text/x-python",
   "name": "python",
   "nbconvert_exporter": "python",
   "pygments_lexer": "ipython3",
   "version": "3.7.7"
  },
  "latex_envs": {
   "LaTeX_envs_menu_present": true,
   "autoclose": false,
   "autocomplete": true,
   "bibliofile": "biblio.bib",
   "cite_by": "apalike",
   "current_citInitial": 1,
   "eqLabelWithNumbers": true,
   "eqNumInitial": 1,
   "hotkeys": {
    "equation": "Ctrl-E",
    "itemize": "Ctrl-I"
   },
   "labels_anchors": false,
   "latex_user_defs": false,
   "report_style_numbering": false,
   "user_envs_cfg": false
  },
  "widgets": {
   "application/vnd.jupyter.widget-state+json": {
    "state": {
     "1a159c3481324fc0a403004bdaaab1a5": {
      "model_module": "bqplot",
      "model_module_version": "^0.5.14",
      "model_name": "ToolbarModel",
      "state": {
       "figure": "IPY_MODEL_911b16a8fc5e4cdc8aefe51dbc365b40",
       "layout": "IPY_MODEL_ab065339004d415c9460cda6c0c064ca"
      }
     },
     "1aa3d01a7f0946e5885b67edf2da44cc": {
      "model_module": "@jupyter-widgets/base",
      "model_module_version": "1.2.0",
      "model_name": "LayoutModel",
      "state": {}
     },
     "1de19bf0041d4590908741f078d7de90": {
      "model_module": "@jupyter-widgets/controls",
      "model_module_version": "1.5.0",
      "model_name": "PlayModel",
      "state": {
       "description": "N1",
       "interval": 105,
       "layout": "IPY_MODEL_5240a3bad48f45bc9ac421125fae8e86",
       "max": 1500,
       "style": "IPY_MODEL_571bea7579614e2da407ed927ec4e28d"
      }
     },
     "24a76992fb8e41c9a9e08ed4486b9a04": {
      "model_module": "bqplot",
      "model_module_version": "^0.5.14",
      "model_name": "LinearScaleModel",
      "state": {
       "allow_padding": false,
       "max": 1,
       "min": 0,
       "stabilized": false
      }
     },
     "2964013d69654491b171ee4a0a90e8aa": {
      "model_module": "bqplot",
      "model_module_version": "^0.5.14",
      "model_name": "LinearScaleModel",
      "state": {
       "allow_padding": false,
       "max": 1,
       "min": 0,
       "stabilized": false
      }
     },
     "2c319a47aa2d4f53afb3e85bc06537dd": {
      "model_module": "bqplot",
      "model_module_version": "^0.5.14",
      "model_name": "ToolbarModel",
      "state": {
       "figure": "IPY_MODEL_5b5b609e774d407bba55877a5aa3834d",
       "layout": "IPY_MODEL_9c30616b31f74018afd24144644f2df0"
      }
     },
     "34a080bd99394e7280c4abf9eb77f271": {
      "model_module": "bqplot",
      "model_module_version": "^0.5.14",
      "model_name": "AxisModel",
      "state": {
       "scale": "IPY_MODEL_c0ece883dc3f4bad9fcb90c898912b51",
       "side": "bottom",
       "tick_values": null
      }
     },
     "3eb391b791e74df5a366761ae04c303a": {
      "buffers": [
       {
        "data": "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",
        "encoding": "base64",
        "path": [
         "x",
         "value"
        ]
       },
       {
        "data": "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",
        "encoding": "base64",
        "path": [
         "y",
         "value"
        ]
       }
      ],
      "model_module": "bqplot",
      "model_module_version": "^0.5.14",
      "model_name": "LinesModel",
      "state": {
       "color": [
        "Orange"
       ],
       "fill_colors": [],
       "labels": [
        "C1"
       ],
       "scales": {
        "color": "IPY_MODEL_7b105a47aef24d4cbf17f1bf99dd7d4a",
        "x": "IPY_MODEL_774e9ad709e249f58ed9db4ef1dbb531",
        "y": "IPY_MODEL_a0c29016a61043df8e08571767304ec1"
       },
       "x": {
        "dtype": "float64",
        "shape": [
         200
        ],
        "type": null,
        "value": {}
       },
       "y": {
        "dtype": "float64",
        "shape": [
         200
        ],
        "type": null,
        "value": {}
       }
      }
     },
     "4990febb3396411d99acf125e9b8ada4": {
      "buffers": [
       {
        "data": "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",
        "encoding": "base64",
        "path": [
         "x",
         "value"
        ]
       },
       {
        "data": "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",
        "encoding": "base64",
        "path": [
         "y",
         "value"
        ]
       }
      ],
      "model_module": "bqplot",
      "model_module_version": "^0.5.14",
      "model_name": "LinesModel",
      "state": {
       "fill_colors": [],
       "labels": [
        "C1"
       ],
       "scales": {
        "x": "IPY_MODEL_774e9ad709e249f58ed9db4ef1dbb531",
        "y": "IPY_MODEL_a0c29016a61043df8e08571767304ec1"
       },
       "x": {
        "dtype": "float64",
        "shape": [
         200
        ],
        "type": null,
        "value": {}
       },
       "y": {
        "dtype": "float64",
        "shape": [
         200
        ],
        "type": null,
        "value": {}
       }
      }
     },
     "4a43167e812143a6ab25071a69c515c9": {
      "model_module": "@jupyter-widgets/output",
      "model_module_version": "1.0.0",
      "model_name": "OutputModel",
      "state": {
       "layout": "IPY_MODEL_e1aec32763c54958aea668cb3eb9319a"
      }
     },
     "51198444936d477ba0114819c5cc8f44": {
      "model_module": "@jupyter-widgets/controls",
      "model_module_version": "1.5.0",
      "model_name": "VBoxModel",
      "state": {
       "children": [
        "IPY_MODEL_5b5b609e774d407bba55877a5aa3834d",
        "IPY_MODEL_2c319a47aa2d4f53afb3e85bc06537dd"
       ],
       "layout": "IPY_MODEL_6cdc60d94de2482996672e2c7e10267b"
      }
     },
     "5240a3bad48f45bc9ac421125fae8e86": {
      "model_module": "@jupyter-widgets/base",
      "model_module_version": "1.2.0",
      "model_name": "LayoutModel",
      "state": {}
     },
     "563e0fa705aa48abaedd1b00bd57e96e": {
      "model_module": "@jupyter-widgets/base",
      "model_module_version": "1.2.0",
      "model_name": "LayoutModel",
      "state": {}
     },
     "571bea7579614e2da407ed927ec4e28d": {
      "model_module": "@jupyter-widgets/controls",
      "model_module_version": "1.5.0",
      "model_name": "DescriptionStyleModel",
      "state": {
       "description_width": ""
      }
     },
     "5b5b609e774d407bba55877a5aa3834d": {
      "model_module": "bqplot",
      "model_module_version": "^0.5.14",
      "model_name": "FigureModel",
      "state": {
       "animation_duration": 100,
       "axes": [
        "IPY_MODEL_34a080bd99394e7280c4abf9eb77f271",
        "IPY_MODEL_6ccea2c066724ce09ef60fb3ccbf8b10"
       ],
       "layout": "IPY_MODEL_c6564edffc7940ac968e896853c9513b",
       "marks": [
        "IPY_MODEL_75d87e4ce6ce44f8a8c872a88b78ff38",
        "IPY_MODEL_5e7529fe99d2422da13823f7a3936779"
       ],
       "scale_x": "IPY_MODEL_24a76992fb8e41c9a9e08ed4486b9a04",
       "scale_y": "IPY_MODEL_c133438c92a9409ebac68adb448ad0a1"
      }
     },
     "5c364d9242944b678d54dcf3fe90926d": {
      "model_module": "bqplot",
      "model_module_version": "^0.5.14",
      "model_name": "LinearScaleModel",
      "state": {
       "max": 1,
       "min": 0,
       "stabilized": false
      }
     },
     "5e7529fe99d2422da13823f7a3936779": {
      "buffers": [
       {
        "data": "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",
        "encoding": "base64",
        "path": [
         "x",
         "value"
        ]
       },
       {
        "data": "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",
        "encoding": "base64",
        "path": [
         "y",
         "value"
        ]
       }
      ],
      "model_module": "bqplot",
      "model_module_version": "^0.5.14",
      "model_name": "LinesModel",
      "state": {
       "fill_colors": [],
       "labels": [
        "C1"
       ],
       "scales": {
        "x": "IPY_MODEL_c0ece883dc3f4bad9fcb90c898912b51",
        "y": "IPY_MODEL_5c364d9242944b678d54dcf3fe90926d"
       },
       "x": {
        "dtype": "float64",
        "shape": [
         200
        ],
        "type": null,
        "value": {}
       },
       "y": {
        "dtype": "float64",
        "shape": [
         200
        ],
        "type": null,
        "value": {}
       }
      }
     },
     "6ccea2c066724ce09ef60fb3ccbf8b10": {
      "model_module": "bqplot",
      "model_module_version": "^0.5.14",
      "model_name": "AxisModel",
      "state": {
       "orientation": "vertical",
       "scale": "IPY_MODEL_5c364d9242944b678d54dcf3fe90926d",
       "side": "left",
       "tick_values": null
      }
     },
     "6cdc60d94de2482996672e2c7e10267b": {
      "model_module": "@jupyter-widgets/base",
      "model_module_version": "1.2.0",
      "model_name": "LayoutModel",
      "state": {}
     },
     "75d87e4ce6ce44f8a8c872a88b78ff38": {
      "buffers": [
       {
        "data": "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",
        "encoding": "base64",
        "path": [
         "x",
         "value"
        ]
       },
       {
        "data": "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",
        "encoding": "base64",
        "path": [
         "y",
         "value"
        ]
       }
      ],
      "model_module": "bqplot",
      "model_module_version": "^0.5.14",
      "model_name": "LinesModel",
      "state": {
       "fill_colors": [],
       "labels": [
        "C1"
       ],
       "scales": {
        "x": "IPY_MODEL_c0ece883dc3f4bad9fcb90c898912b51",
        "y": "IPY_MODEL_5c364d9242944b678d54dcf3fe90926d"
       },
       "x": {
        "dtype": "float64",
        "shape": [
         200
        ],
        "type": null,
        "value": {}
       },
       "y": {
        "dtype": "float64",
        "shape": [
         200
        ],
        "type": null,
        "value": {}
       }
      }
     },
     "774e9ad709e249f58ed9db4ef1dbb531": {
      "model_module": "bqplot",
      "model_module_version": "^0.5.14",
      "model_name": "LinearScaleModel",
      "state": {
       "stabilized": false
      }
     },
     "795e1dd9e9af4936b2e9f129be9aa74b": {
      "model_module": "bqplot",
      "model_module_version": "^0.5.14",
      "model_name": "AxisModel",
      "state": {
       "orientation": "vertical",
       "scale": "IPY_MODEL_a0c29016a61043df8e08571767304ec1",
       "side": "left",
       "tick_values": null
      }
     },
     "7b105a47aef24d4cbf17f1bf99dd7d4a": {
      "model_module": "bqplot",
      "model_module_version": "^0.5.14",
      "model_name": "OrdinalColorScaleModel",
      "state": {
       "colors": [],
       "extrapolation": "constant",
       "max": null,
       "mid": null,
       "min": null,
       "scale_type": "linear",
       "scheme": "RdYlGn"
      }
     },
     "7c1a08520c7a46fb890018d527f39b52": {
      "model_module": "bqplot",
      "model_module_version": "^0.5.14",
      "model_name": "ColorAxisModel",
      "state": {
       "scale": "IPY_MODEL_7b105a47aef24d4cbf17f1bf99dd7d4a",
       "side": "bottom",
       "tick_values": null
      }
     },
     "911b16a8fc5e4cdc8aefe51dbc365b40": {
      "model_module": "bqplot",
      "model_module_version": "^0.5.14",
      "model_name": "FigureModel",
      "state": {
       "layout": "IPY_MODEL_563e0fa705aa48abaedd1b00bd57e96e",
       "scale_x": "IPY_MODEL_fc2157eba0a241cd9d803c8480218374",
       "scale_y": "IPY_MODEL_2964013d69654491b171ee4a0a90e8aa"
      }
     },
     "9c30616b31f74018afd24144644f2df0": {
      "model_module": "@jupyter-widgets/base",
      "model_module_version": "1.2.0",
      "model_name": "LayoutModel",
      "state": {}
     },
     "a0c29016a61043df8e08571767304ec1": {
      "model_module": "bqplot",
      "model_module_version": "^0.5.14",
      "model_name": "LinearScaleModel",
      "state": {
       "stabilized": false
      }
     },
     "ab065339004d415c9460cda6c0c064ca": {
      "model_module": "@jupyter-widgets/base",
      "model_module_version": "1.2.0",
      "model_name": "LayoutModel",
      "state": {}
     },
     "c06f3d0677aa451a8bc6dca50d532060": {
      "model_module": "@jupyter-widgets/base",
      "model_module_version": "1.2.0",
      "model_name": "LayoutModel",
      "state": {}
     },
     "c0ece883dc3f4bad9fcb90c898912b51": {
      "model_module": "bqplot",
      "model_module_version": "^0.5.14",
      "model_name": "LinearScaleModel",
      "state": {
       "stabilized": false
      }
     },
     "c133438c92a9409ebac68adb448ad0a1": {
      "model_module": "bqplot",
      "model_module_version": "^0.5.14",
      "model_name": "LinearScaleModel",
      "state": {
       "allow_padding": false,
       "max": 1,
       "min": 0,
       "stabilized": false
      }
     },
     "c6564edffc7940ac968e896853c9513b": {
      "model_module": "@jupyter-widgets/base",
      "model_module_version": "1.2.0",
      "model_name": "LayoutModel",
      "state": {
       "height": "800px",
       "width": "1000px"
      }
     },
     "c7b833336dbb49f4a13b97bf4e65e820": {
      "model_module": "bqplot",
      "model_module_version": "^0.5.14",
      "model_name": "AxisModel",
      "state": {
       "scale": "IPY_MODEL_774e9ad709e249f58ed9db4ef1dbb531",
       "side": "bottom",
       "tick_values": null
      }
     },
     "c7ed4ec763cb4ad2bb1fa27ed7ee1c82": {
      "model_module": "@jupyter-widgets/controls",
      "model_module_version": "1.5.0",
      "model_name": "VBoxModel",
      "state": {
       "_dom_classes": [
        "widget-interact"
       ],
       "children": [
        "IPY_MODEL_1de19bf0041d4590908741f078d7de90",
        "IPY_MODEL_4a43167e812143a6ab25071a69c515c9"
       ],
       "layout": "IPY_MODEL_c06f3d0677aa451a8bc6dca50d532060"
      }
     },
     "e1aec32763c54958aea668cb3eb9319a": {
      "model_module": "@jupyter-widgets/base",
      "model_module_version": "1.2.0",
      "model_name": "LayoutModel",
      "state": {}
     },
     "ee7c5575cc7a4e9c8a5461bb4b2a4766": {
      "model_module": "@jupyter-widgets/controls",
      "model_module_version": "1.5.0",
      "model_name": "VBoxModel",
      "state": {
       "children": [
        "IPY_MODEL_911b16a8fc5e4cdc8aefe51dbc365b40",
        "IPY_MODEL_1a159c3481324fc0a403004bdaaab1a5"
       ],
       "layout": "IPY_MODEL_1aa3d01a7f0946e5885b67edf2da44cc"
      }
     },
     "fc2157eba0a241cd9d803c8480218374": {
      "model_module": "bqplot",
      "model_module_version": "^0.5.14",
      "model_name": "LinearScaleModel",
      "state": {
       "allow_padding": false,
       "max": 1,
       "min": 0,
       "stabilized": false
      }
     }
    },
    "version_major": 2,
    "version_minor": 0
   }
  }
 },
 "nbformat": 4,
 "nbformat_minor": 4
}
