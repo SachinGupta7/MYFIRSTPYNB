{
 "cells": [
  {
   "cell_type": "code",
   "execution_count": 2,
   "metadata": {},
   "outputs": [
    {
     "data": {
      "application/vnd.jupyter.widget-view+json": {
       "model_id": "a9f92fef7e704da2826062c17a3e87e7",
       "version_major": 2,
       "version_minor": 0
      },
      "text/plain": [
       "VBox(children=(Figure(animation_duration=900, axes=[Axis(scale=LinearScale()), Axis(orientation='vertical', sc…"
      ]
     },
     "metadata": {},
     "output_type": "display_data"
    },
    {
     "data": {
      "application/vnd.jupyter.widget-view+json": {
       "model_id": "cf1479a7bfee43a1b3bb43ffeca53b91",
       "version_major": 2,
       "version_minor": 0
      },
      "text/plain": [
       "interactive(children=(IntSlider(value=5, description='inner width', layout=Layout(width='600px'), max=58), Int…"
      ]
     },
     "metadata": {},
     "output_type": "display_data"
    }
   ],
   "source": [
    "import numpy as np\n",
    "import bqplot as bq\n",
    "from bqplot import pyplot as plt\n",
    "from ipywidgets import*\n",
    "\n",
    "\n",
    "def pot(xc,W1,W2,V1,V2):\n",
    "    if(xc>=(W1/2.0+W2)):\n",
    "        return 0;\n",
    "    elif(xc<=-(W1/2.0+W2)):\n",
    "        return 0;\n",
    "    \n",
    "    elif(xc<=W1/2 and xc>=-W1/2):\n",
    "        return -V1;\n",
    "    \n",
    "    else:\n",
    "        return -V2;\n",
    "def kdirac(i,j):\n",
    "    if(i==j):\n",
    "        return 1;\n",
    "    else:\n",
    "        return 0;\n",
    "x = np.linspace(-3*10,3*10,500)\n",
    "dx = x[2]-x[1]\n",
    "def hamil(i,j,VPO):\n",
    "    v =(-kdirac(i+1,j)+2*kdirac(i,j)-kdirac(i-1,j))/(dx**2) + kdirac(i,j)*VPO;\n",
    "    return v;\n",
    "N = 500    \n",
    "\n",
    "figure = plt.figure(\"Double well \")\n",
    "figure.animation_duration = 900\n",
    "figure.layout= {'width':'1800px','height':'1520px'}\n",
    "plt.clear()    \n",
    "plot = plt.plot(x,x)\n",
    "\n",
    " \n",
    "plt.show()\n",
    "def destroy(WSD):\n",
    "    plt.clear()\n",
    "    plot = plt.plot(x,WSD)\n",
    "    return plot;\n",
    "def gh(EVe,EVal,N):\n",
    "    \n",
    "\n",
    "    for i in range(0,N):\n",
    "             \n",
    "        vb =  ((EVe[:,i])*3)+EVal[i] +i*.5\n",
    "    #plt.ylim(-10,-8)\n",
    "        plt.plot(x,vb,colors = ['Orange'])\n",
    "        \n",
    "        \n",
    "s = 0     \n",
    "def fg(W1,W2,V1,V2,N2,Plot,Clear):\n",
    "    global plot\n",
    "    pot_array = np.array([pot(x1,W1,W2,V1,V2) for x1 in x])\n",
    "   \n",
    "    plot.y = pot_array\n",
    "    \n",
    "    \n",
    "    Ham = np.zeros(N*N).reshape(N,N)\n",
    "\n",
    "    \n",
    "    if(Plot==True):\n",
    "        for i in range(N):\n",
    "            for j in range(N):\n",
    "                Ham[i,j] = hamil(i,j,pot_array[i])\n",
    "        Eigval,Eigvect = np.linalg.eigh(Ham)\n",
    "        np.sort(Eigval)\n",
    "        np.sort(Eigvect)\n",
    "        gh(Eigvect,Eigval,N2);\n",
    "        \n",
    "    elif(Clear==True):\n",
    "                                 \n",
    "        plot = destroy(pot_array)\n",
    "\n",
    "        \n",
    "    else:\n",
    "        return;\n",
    "\n",
    "\n",
    "zx = 0   \n",
    "w = interactive(fg,W1 = IntSlider(description = 'inner width',value = 5,min = 0,max = 58,layout = {'width':'600px'}),\n",
    "                W2 = IntSlider(description = 'Outer width',value = 5,min = 0,max = 20,layout = {'width':'600px'}),\n",
    "                V1 = IntSlider(description = 'V1',value = 5,min = 0,max = 40,layout = {'width':'600px'}),\n",
    "                V2 = IntSlider(description = 'V2',value = 12,min = 0,max = 100,layout = {'width':'600px'}),N2 =(0,200,1),Plot = False,Clear = False\n",
    "               ) \n",
    "w\n"
   ]
  }
 ],
 "metadata": {
  "kernelspec": {
   "display_name": "Python 3",
   "language": "python",
   "name": "python3"
  },
  "language_info": {
   "codemirror_mode": {
    "name": "ipython",
    "version": 3
   },
   "file_extension": ".py",
   "mimetype": "text/x-python",
   "name": "python",
   "nbconvert_exporter": "python",
   "pygments_lexer": "ipython3",
   "version": "3.7.6"
  },
  "latex_envs": {
   "LaTeX_envs_menu_present": true,
   "autoclose": false,
   "autocomplete": true,
   "bibliofile": "biblio.bib",
   "cite_by": "apalike",
   "current_citInitial": 1,
   "eqLabelWithNumbers": true,
   "eqNumInitial": 1,
   "hotkeys": {
    "equation": "Ctrl-E",
    "itemize": "Ctrl-I"
   },
   "labels_anchors": false,
   "latex_user_defs": false,
   "report_style_numbering": false,
   "user_envs_cfg": false
  }
 },
 "nbformat": 4,
 "nbformat_minor": 4
}
